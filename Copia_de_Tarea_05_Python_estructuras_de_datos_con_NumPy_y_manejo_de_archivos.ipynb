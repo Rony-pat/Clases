{
  "nbformat": 4,
  "nbformat_minor": 0,
  "metadata": {
    "colab": {
      "provenance": [],
      "authorship_tag": "ABX9TyM7ejA7BPk7Q8Mo2xs9H+sj",
      "include_colab_link": true
    },
    "kernelspec": {
      "name": "python3",
      "display_name": "Python 3"
    },
    "language_info": {
      "name": "python"
    }
  },
  "cells": [
    {
      "cell_type": "markdown",
      "metadata": {
        "id": "view-in-github",
        "colab_type": "text"
      },
      "source": [
        "<a href=\"https://colab.research.google.com/github/Rony-pat/Clases/blob/main/Copia_de_Tarea_05_Python_estructuras_de_datos_con_NumPy_y_manejo_de_archivos.ipynb\" target=\"_parent\"><img src=\"https://colab.research.google.com/assets/colab-badge.svg\" alt=\"Open In Colab\"/></a>"
      ]
    },
    {
      "source": [
        "import numpy as np\n",
        "import pandas as pd\n",
        "url='https://raw.githubusercontent.com/Rony-pat/csv/main/datos_olas.csv'\n",
        "df=pd.read_csv(url)\n",
        "\n",
        "# Convert columns to numeric type if they contain numbers\n",
        "df['puntos'] = pd.to_numeric(df['puntos'], errors='coerce') # Convert 'puntos' column to numeric\n",
        "df['dia'] = pd.to_numeric(df['dia'], errors='coerce')"
      ],
      "cell_type": "code",
      "metadata": {
        "id": "O_0CtQcEGFVo"
      },
      "execution_count": 14,
      "outputs": []
    },
    {
      "source": [
        "import numpy as np\n",
        "import pandas as pd\n",
        "url='https://raw.githubusercontent.com/Rony-pat/csv/main/datos_olas.csv'\n",
        "\n",
        "\n",
        "df=pd.read_csv(url)\n",
        "\n",
        "df['puntos'] = pd.to_numeric(df['puntos'], errors='coerce')\n",
        "df['dia'] = pd.to_numeric(df['dia'], errors='coerce')\n",
        "\n",
        "altura_promedio = np.mean(df, axis=1)\n",
        "\n",
        "altura_maxima = np.max(df, axis=1)\n",
        "\n",
        "desviacion_estandar = np.std(df, axis=1)\n",
        "indice_max_promedio = np.argmax(altura_promedio)\n",
        "altura_max_promedio = altura_promedio[indice_max_promedio]\n",
        "\n",
        "indice_dia_max_ola = np.argmax(df.values.flatten())\n",
        "altura_max_ola = df.values.flatten()[indice_dia_max_ola]\n",
        "punto_max_ola, dia_max_ola = np.unravel_index(indice_dia_max_ola, df.shape)\n",
        "with open('resultados_olas.txt', 'w') as archivo:\n",
        "    archivo.write(\"Altura promedio de las olas en cada punto:\\n\")\n",
        "    archivo.write(np.array2string(altura_promedio.to_numpy()) + \"\\n\")\n",
        "    archivo.write(\"Altura máxima de las olas en cada punto:\\n\")\n",
        "    archivo.write(np.array2string(altura_maxima.to_numpy()) + \"\\n\")\n",
        "    archivo.write(\"Desviación estándar de la altura de las olas en cada punto:\\n\")\n",
        "    archivo.write(np.array2string(desviacion_estandar.to_numpy()) + \"\\n\")\n",
        "    archivo.write(f\"Punto con la altura promedio más alta: {indice_max_promedio} con altura {altura_max_promedio}\\n\")\n",
        "    archivo.write(f\"Día con la altura máxima de olas: Día {dia_max_ola} en el punto {punto_max_ola} con altura {altura_max_ola}\\n\")"
      ],
      "cell_type": "code",
      "metadata": {
        "id": "PNDsmbluGejB"
      },
      "execution_count": 21,
      "outputs": []
    },
    {
      "source": [
        "!cat resultados_olas.txt"
      ],
      "cell_type": "code",
      "metadata": {
        "colab": {
          "base_uri": "https://localhost:8080/"
        },
        "id": "xH-pG7LAGuWJ",
        "outputId": "2e718c97-58ad-40c1-bf5f-148ff5830a4a"
      },
      "execution_count": 20,
      "outputs": [
        {
          "output_type": "stream",
          "name": "stdout",
          "text": [
            "Altura promedio de las olas en cada punto:\n",
            "[4.87846407 0.32100211 9.66505196 2.06802943 8.64743269 1.06894673\n",
            " 5.77223335 5.43816497 3.38164145 8.76214502 6.96088407 7.88082663\n",
            " 6.33768938 3.58551699 8.04451408 9.15816324 2.13039671 7.61968527\n",
            " 5.00819467 6.37610633 8.9881659  1.70137878 1.96649351 4.67404529\n",
            " 4.52179454 0.36118524 9.30103056 0.8744858  3.85608113 9.34172845\n",
            " 2.94161329 4.10572062 2.38798363 1.50692247 3.72435097 0.89682111\n",
            " 7.24512516 9.8232728  2.92417257 1.26318852 6.71030984 0.15471541\n",
            " 0.34886137 4.04010562 9.97729349 3.26750884 1.65166459 8.273038\n",
            " 1.92433762 8.63080405 6.37591022 8.28376454 2.53633869 7.12911371\n",
            " 1.7874111  0.58673902 2.59805142 4.02955131 5.98578425 4.0273011\n",
            " 8.64441421 9.87457455 4.34168313 1.81043761 9.41294896 0.33557212\n",
            " 7.96428109 5.29567959 6.03024126 9.41816043 3.19682152 1.42667961\n",
            " 7.02214669 9.33762327 3.67891574 2.95519895 0.03941384 7.65294224\n",
            " 5.02642205 8.72841157 9.64399382 3.32370131 7.40063791 1.12339274\n",
            " 9.14553084 6.89500539 0.48677188 9.00809713 7.50671124 6.8890535\n",
            " 5.79689814 2.36068336 7.47281784 3.17057082 6.32382801 0.29182095\n",
            " 9.3015302  1.18556257 8.37876698 4.55242957]\n",
            "Altura máxima de las olas en cada punto:\n",
            "[4.87846407 0.32100211 9.66505196 2.06802943 8.64743269 1.06894673\n",
            " 5.77223335 5.43816497 3.38164145 8.76214502 6.96088407 7.88082663\n",
            " 6.33768938 3.58551699 8.04451408 9.15816324 2.13039671 7.61968527\n",
            " 5.00819467 6.37610633 8.9881659  1.70137878 1.96649351 4.67404529\n",
            " 4.52179454 0.36118524 9.30103056 0.8744858  3.85608113 9.34172845\n",
            " 2.94161329 4.10572062 2.38798363 1.50692247 3.72435097 0.89682111\n",
            " 7.24512516 9.8232728  2.92417257 1.26318852 6.71030984 0.15471541\n",
            " 0.34886137 4.04010562 9.97729349 3.26750884 1.65166459 8.273038\n",
            " 1.92433762 8.63080405 6.37591022 8.28376454 2.53633869 7.12911371\n",
            " 1.7874111  0.58673902 2.59805142 4.02955131 5.98578425 4.0273011\n",
            " 8.64441421 9.87457455 4.34168313 1.81043761 9.41294896 0.33557212\n",
            " 7.96428109 5.29567959 6.03024126 9.41816043 3.19682152 1.42667961\n",
            " 7.02214669 9.33762327 3.67891574 2.95519895 0.03941384 7.65294224\n",
            " 5.02642205 8.72841157 9.64399382 3.32370131 7.40063791 1.12339274\n",
            " 9.14553084 6.89500539 0.48677188 9.00809713 7.50671124 6.8890535\n",
            " 5.79689814 2.36068336 7.47281784 3.17057082 6.32382801 0.29182095\n",
            " 9.3015302  1.18556257 8.37876698 4.55242957]\n",
            "Desviación estándar de la altura de las olas en cada punto:\n",
            "[0. 0. 0. 0. 0. 0. 0. 0. 0. 0. 0. 0. 0. 0. 0. 0. 0. 0. 0. 0. 0. 0. 0. 0.\n",
            " 0. 0. 0. 0. 0. 0. 0. 0. 0. 0. 0. 0. 0. 0. 0. 0. 0. 0. 0. 0. 0. 0. 0. 0.\n",
            " 0. 0. 0. 0. 0. 0. 0. 0. 0. 0. 0. 0. 0. 0. 0. 0. 0. 0. 0. 0. 0. 0. 0. 0.\n",
            " 0. 0. 0. 0. 0. 0. 0. 0. 0. 0. 0. 0. 0. 0. 0. 0. 0. 0. 0. 0. 0. 0. 0. 0.\n",
            " 0. 0. 0. 0.]\n",
            "Punto con la altura promedio más alta: 44 con altura 9.977293486806255\n",
            "Día con la altura máxima de olas: Día 0 en el punto 0 con altura nan\n"
          ]
        }
      ]
    }
  ]
}