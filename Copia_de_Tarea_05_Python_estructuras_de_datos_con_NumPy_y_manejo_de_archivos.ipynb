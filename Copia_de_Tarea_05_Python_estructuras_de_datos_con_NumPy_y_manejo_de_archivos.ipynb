{
  "nbformat": 4,
  "nbformat_minor": 0,
  "metadata": {
    "colab": {
      "provenance": [],
      "toc_visible": true,
      "authorship_tag": "ABX9TyMbysPhEgdTZqvXFD86kUvJ",
      "include_colab_link": true
    },
    "kernelspec": {
      "name": "python3",
      "display_name": "Python 3"
    },
    "language_info": {
      "name": "python"
    }
  },
  "cells": [
    {
      "cell_type": "markdown",
      "metadata": {
        "id": "view-in-github",
        "colab_type": "text"
      },
      "source": [
        "<a href=\"https://colab.research.google.com/github/Rony-pat/Clases/blob/main/Copia_de_Tarea_05_Python_estructuras_de_datos_con_NumPy_y_manejo_de_archivos.ipynb\" target=\"_parent\"><img src=\"https://colab.research.google.com/assets/colab-badge.svg\" alt=\"Open In Colab\"/></a>"
      ]
    },
    {
      "source": [
        "import numpy as np\n",
        "import pandas as pd\n",
        "datos_olas = np.loadtxt('datos_olas.csv', delimiter=',')\n",
        "altura_promedio = np.mean(datos_olas, axis=1)\n",
        "altura_maxima = np.max(datos_olas, axis=1)\n",
        "desviacion_estandar = np.std(datos_olas, axis=1)\n",
        "\n",
        "indice_max_promedio = np.argmax(altura_promedio)\n",
        "altura_max_promedio = altura_promedio[indice_max_promedio]\n",
        "\n",
        "indice_dia_max_ola = np.argmax(datos_olas)\n",
        "altura_max_ola = datos_olas.flat[indice_dia_max_ola]\n",
        "\n",
        "punto_max_ola, dia_max_ola = np.unravel_index(indice_dia_max_ola, datos_olas.shape)\n",
        "\n",
        "with open('resultados_olas.txt', 'w') as archivo:\n",
        "    archivo.write(\"Altura promedio de las olas en cada punto:\\n\")\n",
        "    archivo.write(np.array2string(altura_promedio) + \"\\n\")\n",
        "    archivo.write(\"Altura máxima de las olas en cada punto:\\n\")\n",
        "    archivo.write(np.array2string(altura_maxima) + \"\\n\")\n",
        "    archivo.write(\"Desviación estándar de la altura de las olas en cada punto:\\n\")\n",
        "    archivo.write(np.array2string(desviacion_estandar) + \"\\n\")\n",
        "    archivo.write(f\"Punto con la altura promedio más alta: {indice_max_promedio} con altura {altura_max_promedio}\\n\")\n",
        "    archivo.write(f\"Día con la altura máxima de olas: Día {dia_max_ola} en el punto {punto_max_ola} con altura {altura_max_ola}\\n\")\n"
      ],
      "cell_type": "code",
      "metadata": {
        "id": "TF1VgOKdfktS"
      },
      "execution_count": null,
      "outputs": []
    }
  ]
}