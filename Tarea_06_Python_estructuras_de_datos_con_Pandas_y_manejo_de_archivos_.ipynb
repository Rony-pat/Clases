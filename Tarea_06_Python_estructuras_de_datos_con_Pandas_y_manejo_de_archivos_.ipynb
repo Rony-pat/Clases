{
  "nbformat": 4,
  "nbformat_minor": 0,
  "metadata": {
    "colab": {
      "provenance": [],
      "authorship_tag": "ABX9TyPczgLpduVQMnU2/nAM8VZs",
      "include_colab_link": true
    },
    "kernelspec": {
      "name": "python3",
      "display_name": "Python 3"
    },
    "language_info": {
      "name": "python"
    }
  },
  "cells": [
    {
      "cell_type": "markdown",
      "metadata": {
        "id": "view-in-github",
        "colab_type": "text"
      },
      "source": [
        "<a href=\"https://colab.research.google.com/github/Rony-pat/Clases/blob/main/Tarea_06_Python_estructuras_de_datos_con_Pandas_y_manejo_de_archivos_.ipynb\" target=\"_parent\"><img src=\"https://colab.research.google.com/assets/colab-badge.svg\" alt=\"Open In Colab\"/></a>"
      ]
    },
    {
      "cell_type": "code",
      "execution_count": 15,
      "metadata": {
        "colab": {
          "base_uri": "https://localhost:8080/"
        },
        "id": "mY9O-Cp9opSJ",
        "outputId": "f17eef52-1b9f-49f6-ec1b-d91e71ea2e8e"
      },
      "outputs": [
        {
          "output_type": "stream",
          "name": "stdout",
          "text": [
            "Primeras 5 filas del DataFrame:\n",
            "     Producto    Categoria       Fecha  Cantidad  Precio\n",
            "0  Producto B  Categoria 1  2023-02-05        16   37.00\n",
            "1  Producto A  Categoria 2  2022-08-24         5   30.24\n",
            "2  Producto A  Categoria 2  2023-05-07         3   23.29\n",
            "3  Producto C  Categoria 1  2023-01-07        13   28.30\n",
            "4  Producto A  Categoria 1  2023-05-31        10   34.89\n"
          ]
        }
      ],
      "source": [
        "import pandas as pd\n",
        "ventas = pd.read_csv('datos_ventas.csv')\n",
        "print(\"Primeras 5 filas del DataFrame:\")\n",
        "print(ventas.head())\n"
      ]
    },
    {
      "cell_type": "code",
      "source": [
        "ventas['Total_Ventas'] = ventas['Cantidad']\n",
        "total_ventas_categoria = ventas.groupby('Categoria')['Total_Ventas'].sum()\n",
        "print(\"\\nTotal de ventas por categoría:\")\n",
        "print(total_ventas_categoria)"
      ],
      "metadata": {
        "colab": {
          "base_uri": "https://localhost:8080/"
        },
        "id": "pahMNcgNJgdr",
        "outputId": "524655d4-108c-40af-83f2-57ebd7fcfeb9"
      },
      "execution_count": 20,
      "outputs": [
        {
          "output_type": "stream",
          "name": "stdout",
          "text": [
            "\n",
            "Total de ventas por categoría:\n",
            "Categoria\n",
            "Categoria 1    462\n",
            "Categoria 2    495\n",
            "Name: Total_Ventas, dtype: int64\n"
          ]
        }
      ]
    },
    {
      "cell_type": "code",
      "source": [
        "grouped = ventas.groupby('Producto').agg(\n",
        "    Total_Vendido=('Cantidad', 'sum'),\n",
        "    Numero_Transacciones=('Fecha', 'count'))\n",
        "grouped['Promedio_Vendido_Por_Transaccion'] = grouped['Total_Vendido'] / grouped['Numero_Transacciones']\n",
        "print(grouped[['Promedio_Vendido_Por_Transaccion']])\n"
      ],
      "metadata": {
        "colab": {
          "base_uri": "https://localhost:8080/"
        },
        "id": "3-wBOWllN02Z",
        "outputId": "59e6bb66-7d31-48c2-e951-df7fecf3f98a"
      },
      "execution_count": 24,
      "outputs": [
        {
          "output_type": "stream",
          "name": "stdout",
          "text": [
            "            Promedio_Vendido_Por_Transaccion\n",
            "Producto                                    \n",
            "Producto A                          9.684211\n",
            "Producto B                         10.600000\n",
            "Producto C                          8.074074\n"
          ]
        }
      ]
    },
    {
      "cell_type": "code",
      "source": [
        "total_vendido_por_producto = ventas.groupby('Producto')['Cantidad'].sum()\n",
        "producto_mas_vendido = total_vendido_por_producto.idxmax()\n",
        "cantidad_vendida = total_vendido_por_producto.max()\n",
        "print(f'Producto más vendido: {producto_mas_vendido}')\n",
        "print(f'Cantidad vendida: {cantidad_vendida}')"
      ],
      "metadata": {
        "colab": {
          "base_uri": "https://localhost:8080/"
        },
        "id": "gwOJU_a-Q95u",
        "outputId": "f2bbcf8f-459a-4752-d252-2cc1094b243b"
      },
      "execution_count": 25,
      "outputs": [
        {
          "output_type": "stream",
          "name": "stdout",
          "text": [
            "Producto más vendido: Producto B\n",
            "Cantidad vendida: 371\n"
          ]
        }
      ]
    },
    {
      "cell_type": "code",
      "source": [
        "promedio_precio_por_producto = ventas.groupby('Producto')['Precio'].mean()\n",
        "print(promedio_precio_por_producto)"
      ],
      "metadata": {
        "colab": {
          "base_uri": "https://localhost:8080/"
        },
        "id": "h6Lp7xlhR616",
        "outputId": "b7261971-448e-44a3-ef63-763f76c28d14"
      },
      "execution_count": 27,
      "outputs": [
        {
          "output_type": "stream",
          "name": "stdout",
          "text": [
            "Producto\n",
            "Producto A    27.840000\n",
            "Producto B    29.250857\n",
            "Producto C    29.892963\n",
            "Name: Precio, dtype: float64\n"
          ]
        }
      ]
    }
  ]
}