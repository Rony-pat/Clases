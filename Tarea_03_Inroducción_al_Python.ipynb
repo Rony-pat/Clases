{
  "nbformat": 4,
  "nbformat_minor": 0,
  "metadata": {
    "colab": {
      "provenance": [],
      "authorship_tag": "ABX9TyMm9R1UdD0Bv3OhVYk1HpIC",
      "include_colab_link": true
    },
    "kernelspec": {
      "name": "python3",
      "display_name": "Python 3"
    },
    "language_info": {
      "name": "python"
    }
  },
  "cells": [
    {
      "cell_type": "markdown",
      "metadata": {
        "id": "view-in-github",
        "colab_type": "text"
      },
      "source": [
        "<a href=\"https://colab.research.google.com/github/Rony-pat/Clases/blob/main/Tarea_03_Inroducci%C3%B3n_al_Python.ipynb\" target=\"_parent\"><img src=\"https://colab.research.google.com/assets/colab-badge.svg\" alt=\"Open In Colab\"/></a>"
      ]
    },
    {
      "cell_type": "markdown",
      "source": [
        "# Tarea 03- Inroducción al Python"
      ],
      "metadata": {
        "id": "23hpeYk14A93"
      }
    },
    {
      "cell_type": "code",
      "source": [
        "def Serie_n_numeros(  ):\n",
        "  n=0\n",
        "  men=0\n",
        "  may=0\n",
        "  total=0\n",
        "  n=int(input(\"Ingrese la cantidad de numeros a evaluar: \"))\n",
        "  for i in range(n):\n",
        "    numero = int(input(f\"Ingresa un numero: \"))\n",
        "    total=total+numero\n",
        "    if men>=numero:\n",
        "      men=numero\n",
        "    if may<=numero:\n",
        "      may=numero\n",
        "  print(f\"El numero mayor es: {may}\")\n",
        "  print(f\"El numero menor es: {men}\")\n",
        "  print(f\"El promedio de los numeros es: {total/n}\")\n",
        "\n",
        "Serie_n_numeros\n"
      ],
      "metadata": {
        "colab": {
          "base_uri": "https://localhost:8080/",
          "height": 103
        },
        "collapsed": true,
        "id": "IsaQE8s6D2FZ",
        "outputId": "8ed4de6d-ba49-4130-cc0b-fc467b26b19f"
      },
      "execution_count": 16,
      "outputs": [
        {
          "output_type": "execute_result",
          "data": {
            "text/plain": [
              "<function __main__.Serie_n_numeros()>"
            ],
            "text/html": [
              "<div style=\"max-width:800px; border: 1px solid var(--colab-border-color);\"><style>\n",
              "      pre.function-repr-contents {\n",
              "        overflow-x: auto;\n",
              "        padding: 8px 12px;\n",
              "        max-height: 500px;\n",
              "      }\n",
              "\n",
              "      pre.function-repr-contents.function-repr-contents-collapsed {\n",
              "        cursor: pointer;\n",
              "        max-height: 100px;\n",
              "      }\n",
              "    </style>\n",
              "    <pre style=\"white-space: initial; background:\n",
              "         var(--colab-secondary-surface-color); padding: 8px 12px;\n",
              "         border-bottom: 1px solid var(--colab-border-color);\"><b>Serie_n_numeros</b><br/>def Serie_n_numeros()</pre><pre class=\"function-repr-contents function-repr-contents-collapsed\" style=\"\"><a class=\"filepath\" style=\"display:none\" href=\"#\">/content/&lt;ipython-input-16-77409bf0c3ef&gt;</a>&lt;no docstring&gt;</pre></div>"
            ]
          },
          "metadata": {},
          "execution_count": 16
        }
      ]
    },
    {
      "cell_type": "code",
      "source": [
        "def Serie_n_numeros():\n",
        "    # Inicializamos las variables\n",
        "    n = 0\n",
        "    men = float('inf')  # Inicializamos con infinito positivo\n",
        "    may = float('-inf') # Inicializamos con infinito negativo\n",
        "    total = 0\n",
        "\n",
        "    # Solicitar al usuario la cantidad de números\n",
        "    n = int(input(\"Ingrese la cantidad de numeros a evaluar: \"))\n",
        "\n",
        "    # Verificar que el número de elementos sea mayor que 0\n",
        "    if n <= 0:\n",
        "        print(\"La cantidad de números debe ser mayor que 0.\")\n",
        "        return\n",
        "\n",
        "    # Recoger los números del usuario y procesarlos\n",
        "    for i in range(n):\n",
        "        numero = int(input(f\"Ingresa un numero: \"))\n",
        "        total += numero\n",
        "\n",
        "        # Actualizar el número menor\n",
        "        if numero < men:\n",
        "            men = numero\n",
        "\n",
        "        # Actualizar el número mayor\n",
        "        if numero > may:\n",
        "            may = numero\n",
        "\n",
        "    # Calcular el promedio\n",
        "    promedio = total / n\n",
        "\n",
        "    # Imprimir resultados\n",
        "    print(f\"El número mayor es: {may}\")\n",
        "    print(f\"El número menor es: {men}\")\n",
        "    print(f\"El promedio de los números es: {promedio}\")\n",
        "\n",
        "# Llamar a la función\n",
        "Serie_n_numeros()\n"
      ],
      "metadata": {
        "colab": {
          "base_uri": "https://localhost:8080/"
        },
        "id": "BsNBYZSLIzYk",
        "outputId": "cd3682f3-289f-4dd1-fb45-c418b00c20fa"
      },
      "execution_count": 18,
      "outputs": [
        {
          "output_type": "stream",
          "name": "stdout",
          "text": [
            "Ingrese la cantidad de numeros a evaluar: 9\n",
            "Ingresa un numero: 5\n",
            "Ingresa un numero: 3\n",
            "Ingresa un numero: 8\n",
            "Ingresa un numero: 2\n",
            "Ingresa un numero: 3\n",
            "Ingresa un numero: 4\n",
            "Ingresa un numero: 5\n",
            "Ingresa un numero: 1\n",
            "Ingresa un numero: 34\n",
            "El número mayor es: 34\n",
            "El número menor es: 1\n",
            "El promedio de los números es: 7.222222222222222\n"
          ]
        }
      ]
    }
  ]
}