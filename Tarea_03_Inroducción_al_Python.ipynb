{
  "nbformat": 4,
  "nbformat_minor": 0,
  "metadata": {
    "colab": {
      "provenance": [],
      "authorship_tag": "ABX9TyNLcTIsGZF81M2YhnGGM/yT",
      "include_colab_link": true
    },
    "kernelspec": {
      "name": "python3",
      "display_name": "Python 3"
    },
    "language_info": {
      "name": "python"
    }
  },
  "cells": [
    {
      "cell_type": "markdown",
      "metadata": {
        "id": "view-in-github",
        "colab_type": "text"
      },
      "source": [
        "<a href=\"https://colab.research.google.com/github/Rony-pat/Clases/blob/main/Tarea_03_Inroducci%C3%B3n_al_Python.ipynb\" target=\"_parent\"><img src=\"https://colab.research.google.com/assets/colab-badge.svg\" alt=\"Open In Colab\"/></a>"
      ]
    },
    {
      "cell_type": "markdown",
      "source": [
        "# Tarea 03- Inroducción al Python"
      ],
      "metadata": {
        "id": "23hpeYk14A93"
      }
    },
    {
      "cell_type": "code",
      "source": [
        "def Serie_n_numeros():\n",
        "    # Inicializamos las variables\n",
        "    n = 0\n",
        "    men = float('inf')\n",
        "    may = float('-inf')\n",
        "    total = 0\n",
        "\n",
        "\n",
        "    n = int(input(\"Ingrese la cantidad de numeros a evaluar: \"))\n",
        "\n",
        "\n",
        "    if n <= 0:\n",
        "        print(\"La cantidad de números debe ser mayor que 0.\")\n",
        "        return\n",
        "\n",
        "\n",
        "    for i in range(n):\n",
        "        numero = int(input(f\"Ingresa un numero: \"))\n",
        "        total += numero\n",
        "\n",
        "\n",
        "        if numero < men:\n",
        "            men = numero\n",
        "\n",
        "\n",
        "        if numero > may:\n",
        "            may = numero\n",
        "\n",
        "\n",
        "    promedio = total / n\n",
        "\n",
        "\n",
        "    print(f\"El número mayor es: {may}\")\n",
        "    print(f\"El número menor es: {men}\")\n",
        "    print(f\"El promedio de los números es: {promedio}\")\n",
        "\n",
        "\n",
        "Serie_n_numeros()\n"
      ],
      "metadata": {
        "colab": {
          "base_uri": "https://localhost:8080/"
        },
        "id": "0QsDRu_Nhm77",
        "outputId": "3ce83da7-a133-4850-f311-ac10a6fc2984"
      },
      "execution_count": 19,
      "outputs": [
        {
          "output_type": "stream",
          "name": "stdout",
          "text": [
            "Ingrese la cantidad de numeros a evaluar: 7\n",
            "Ingresa un numero: 23\n",
            "Ingresa un numero: 2\n",
            "Ingresa un numero: 2\n",
            "Ingresa un numero: 5\n",
            "Ingresa un numero: 6\n",
            "Ingresa un numero: 7\n",
            "Ingresa un numero: 6\n",
            "El número mayor es: 23\n",
            "El número menor es: 2\n",
            "El promedio de los números es: 7.285714285714286\n"
          ]
        }
      ]
    }
  ]
}