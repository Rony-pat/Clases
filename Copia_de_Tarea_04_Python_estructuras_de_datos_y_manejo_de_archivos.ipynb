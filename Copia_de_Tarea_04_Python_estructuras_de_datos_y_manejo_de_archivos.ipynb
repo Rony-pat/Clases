{
  "nbformat": 4,
  "nbformat_minor": 0,
  "metadata": {
    "colab": {
      "provenance": [],
      "authorship_tag": "ABX9TyMyb4oTha/eZOnnM+d5V+z/",
      "include_colab_link": true
    },
    "kernelspec": {
      "name": "python3",
      "display_name": "Python 3"
    },
    "language_info": {
      "name": "python"
    }
  },
  "cells": [
    {
      "cell_type": "markdown",
      "metadata": {
        "id": "view-in-github",
        "colab_type": "text"
      },
      "source": [
        "<a href=\"https://colab.research.google.com/github/Rony-pat/Clases/blob/main/Copia_de_Tarea_04_Python_estructuras_de_datos_y_manejo_de_archivos.ipynb\" target=\"_parent\"><img src=\"https://colab.research.google.com/assets/colab-badge.svg\" alt=\"Open In Colab\"/></a>"
      ]
    },
    {
      "cell_type": "code",
      "source": [
        "\n",
        "inventario = {}\n",
        "\n",
        "def agregar_producto():\n",
        "    while True:\n",
        "        resp = input(\"¿Quiere ingresar algún producto? Si es así, diga 'sí': \").strip().lower()\n",
        "        if resp in [\"sí\", \"si\", \"s\"]:\n",
        "            nombre = input(\"Ingrese el nombre del producto: \").strip()\n",
        "            cantidad = int(input(\"Ingrese la cantidad del producto: \"))\n",
        "            inventario[nombre] = cantidad\n",
        "            print(f\"Inventario actualizado: {inventario}\")\n",
        "        else:\n",
        "            print(\"No se ingresaron más productos.\")\n",
        "            break\n",
        "\n",
        "def buscar_producto():\n",
        "    bus = input(\"Ingrese el nombre del producto que desea buscar: \").strip()\n",
        "    if bus in inventario:\n",
        "        print(f\"Producto encontrado: {bus} - Cantidad disponible: {inventario[bus]}\")\n",
        "    else:\n",
        "        print(f\"El producto '{bus}' no existe en el inventario.\")\n",
        "def actualizar_cantidad():\n",
        "  while True:\n",
        "        resp = input(\"¿Quiere actualizar algún producto? Si es así, diga 'sí': \").strip().lower()\n",
        "        if resp in [\"sí\", \"si\", \"s\"]:\n",
        "            print(f\"Productos disponibles en el inventario: {inventario}\")\n",
        "            act = input(\"Ingrese el nombre del producto que desea actualizar: \").strip()\n",
        "            if act in inventario:\n",
        "                nueva = int(input(\"Ingrese la nueva cantidad del producto: \"))\n",
        "                inventario[act] = nueva\n",
        "                print(f\"Inventario actualizado: {inventario}\")\n",
        "            else:\n",
        "                print(f\"El producto '{act}' no existe en el inventario.\")\n",
        "        else:\n",
        "            print(\"No se actalizaran los productos.\")\n",
        "            break\n",
        "def eliminar_producto():\n",
        "  while True:\n",
        "        resp = input(\"¿Quiere eliminar algún producto? Si es así, diga 'sí': \").strip().lower()\n",
        "        if resp in [\"sí\", \"si\", \"s\"]:\n",
        "            print(f\"Productos disponibles en el inventario: {inventario}\")\n",
        "            eliminar= input(\"Ingrese el nombre del producto que desea eliminar: \").strip()\n",
        "            if eliminar in inventario:\n",
        "                del inventario[eliminar]\n",
        "                print(f\"Inventario actualizado: {inventario}\")\n",
        "            else:\n",
        "                print(f\"El producto '{eliminar}' no existe en el inventario.\")\n",
        "        else:\n",
        "            print(\"No se eliminaran los productos.\")\n",
        "            break\n",
        "agregar_producto()\n",
        "buscar_producto()\n",
        "actualizar_cantidad()\n",
        "eliminar_producto()\n",
        "\n",
        "\n"
      ],
      "metadata": {
        "colab": {
          "base_uri": "https://localhost:8080/"
        },
        "id": "iw9VSItuHTaZ",
        "outputId": "d167364d-54a0-4bdd-9b98-7d94db8de143"
      },
      "execution_count": 1,
      "outputs": [
        {
          "output_type": "stream",
          "name": "stdout",
          "text": [
            "¿Quiere ingresar algún producto? Si es así, diga 'sí': si\n",
            "Ingrese el nombre del producto: shampoo\n",
            "Ingrese la cantidad del producto: 3\n",
            "Inventario actualizado: {'shampoo': 3}\n",
            "¿Quiere ingresar algún producto? Si es así, diga 'sí': no\n",
            "No se ingresaron más productos.\n",
            "Ingrese el nombre del producto que desea buscar: shampoo\n",
            "Producto encontrado: shampoo - Cantidad disponible: 3\n",
            "¿Quiere actualizar algún producto? Si es así, diga 'sí': si\n",
            "Productos disponibles en el inventario: {'shampoo': 3}\n",
            "Ingrese el nombre del producto que desea actualizar: shampoo\n",
            "Ingrese la nueva cantidad del producto: 44\n",
            "Inventario actualizado: {'shampoo': 44}\n",
            "¿Quiere actualizar algún producto? Si es así, diga 'sí': no\n",
            "No se actalizaran los productos.\n",
            "¿Quiere eliminar algún producto? Si es así, diga 'sí': no\n",
            "No se eliminaran los productos.\n"
          ]
        }
      ]
    }
  ]
}