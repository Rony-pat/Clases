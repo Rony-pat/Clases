{
  "nbformat": 4,
  "nbformat_minor": 0,
  "metadata": {
    "colab": {
      "provenance": [],
      "authorship_tag": "ABX9TyMLReAKXggtRoSdPuWqoPqM",
      "include_colab_link": true
    },
    "kernelspec": {
      "name": "python3",
      "display_name": "Python 3"
    },
    "language_info": {
      "name": "python"
    }
  },
  "cells": [
    {
      "cell_type": "markdown",
      "metadata": {
        "id": "view-in-github",
        "colab_type": "text"
      },
      "source": [
        "<a href=\"https://colab.research.google.com/github/Rony-pat/Clases/blob/main/Tarea_07.ipynb\" target=\"_parent\"><img src=\"https://colab.research.google.com/assets/colab-badge.svg\" alt=\"Open In Colab\"/></a>"
      ]
    },
    {
      "source": [
        "import pandas as pd\n",
        "\n",
        "\n",
        "df_2016 = pd.read_csv('emisiones-2016.csv', delimiter=';')\n",
        "df_2017 = pd.read_csv('emisiones-2017.csv', delimiter=';')\n",
        "df_2018 = pd.read_csv('emisiones-2018.csv', delimiter=';')\n",
        "\n",
        "\n",
        "def procesar_dataframe(df):\n",
        "\n",
        "    columnas_dias = [f'D{str(i).zfill(2)}' for i in range(1, 32)]  # D01, D02, ..., D31\n",
        "    columnas_necesarias = ['ESTACION', 'MAGNITUD', 'ANO', 'MES'] + columnas_dias\n",
        "    df_filtrado = df[columnas_necesarias]\n",
        "\n",
        "\n",
        "    df_reestructurado = pd.melt(df_filtrado,\n",
        "                                id_vars=['ESTACION', 'MAGNITUD', 'ANO', 'MES'],\n",
        "                                value_vars=columnas_dias,\n",
        "                                var_name='DIA',\n",
        "                                value_name='VALOR')\n",
        "\n",
        "\n",
        "    df_reestructurado['DIA'] = df_reestructurado['DIA'].str.extract('(\\d+)').astype(int)\n",
        "\n",
        "    return df_reestructurado\n",
        "\n",
        "\n",
        "df_2016_procesado = procesar_dataframe(df_2016)\n",
        "df_2017_procesado = procesar_dataframe(df_2017)\n",
        "df_2018_procesado = procesar_dataframe(df_2018)\n",
        "\n",
        "\n",
        "print(df_2016_procesado.head())\n",
        "\n"
      ],
      "cell_type": "code",
      "metadata": {
        "colab": {
          "base_uri": "https://localhost:8080/"
        },
        "id": "kdpYEm0XHuNN",
        "outputId": "bf22b01a-f9ee-4a6d-b56b-d95f10a3c17b"
      },
      "execution_count": 20,
      "outputs": [
        {
          "output_type": "stream",
          "name": "stdout",
          "text": [
            "   ESTACION  MAGNITUD   ANO  MES  DIA  VALOR\n",
            "0         4         1  2016    1    1    8.0\n",
            "1         4         1  2016    2    1   12.0\n",
            "2         4         1  2016    3    1   11.0\n",
            "3         4         1  2016    4    1    8.0\n",
            "4         4         1  2016    5    1    7.0\n"
          ]
        }
      ]
    },
    {
      "source": [
        "import numpy as np\n",
        "from datetime import datetime\n",
        "\n",
        "\n",
        "def procesar_dataframe_con_fecha(df):\n",
        "\n",
        "    df_reestructurado = procesar_dataframe(df)\n",
        "\n",
        "    df_reestructurado['FECHA'] = pd.to_datetime(df_reestructurado[['ANO', 'MES', 'DIA']].rename(columns={'ANO':'year', 'MES':'month', 'DIA':'day'}), format='%Y%m%d', errors='coerce')\n",
        "\n",
        "    df_reestructurado = df_reestructurado[~df_reestructurado['FECHA'].isna()]\n",
        "\n",
        "    df_reestructurado = df_reestructurado.sort_values(by=['ESTACION', 'FECHA'])\n",
        "\n",
        "    return df_reestructurado\n",
        "\n",
        "df_2016_procesado_con_fecha = procesar_dataframe_con_fecha(df_2016)\n",
        "df_2017_procesado_con_fecha = procesar_dataframe_con_fecha(df_2017)\n",
        "df_2018_procesado_con_fecha = procesar_dataframe_con_fecha(df_2018)\n",
        "\n",
        "print(df_2016_procesado_con_fecha.head())"
      ],
      "cell_type": "code",
      "metadata": {
        "colab": {
          "base_uri": "https://localhost:8080/"
        },
        "id": "WbE73b5Zpo0d",
        "outputId": "c5790dea-2e73-434a-dd40-5888e9612979"
      },
      "execution_count": 25,
      "outputs": [
        {
          "output_type": "stream",
          "name": "stdout",
          "text": [
            "    ESTACION  MAGNITUD   ANO  MES  DIA  VALOR      FECHA\n",
            "0          4         1  2016    1    1    8.0 2016-01-01\n",
            "12         4         6  2016    1    1    0.4 2016-01-01\n",
            "24         4         7  2016    1    1   28.0 2016-01-01\n",
            "36         4         8  2016    1    1   40.0 2016-01-01\n",
            "48         4        12  2016    1    1   83.0 2016-01-01\n"
          ]
        }
      ]
    },
    {
      "cell_type": "code",
      "source": [
        "def mostrar_estaciones_y_contaminantes(df):\n",
        "    estaciones = df['ESTACION'].unique()\n",
        "    contaminantes = df['MAGNITUD'].unique()\n",
        "    print(\"Estaciones disponibles:\", estaciones)\n",
        "    print(\"Contaminantes disponibles:\", contaminantes)\n",
        "mostrar_estaciones_y_contaminantes(df_2016_procesado_con_fecha)\n",
        "\n",
        "def emisiones_por_estacion_y_contaminante(df, estacion, contaminante, fecha_inicio, fecha_fin):\n",
        "    df_filtrado = df[(df['ESTACION'] == estacion) & (df['MAGNITUD'] == contaminante)]\n",
        "    df_filtrado = df_filtrado[(df_filtrado['FECHA'] >= fecha_inicio) & (df_filtrado['FECHA'] <= fecha_fin)]\n",
        "    return df_filtrado[['FECHA', 'VALOR']].set_index('FECHA')\n",
        "fecha_inicio = '2016-01-01'\n",
        "fecha_fin = '2016-12-31'\n",
        "estacion = 4\n",
        "contaminante = 1\n",
        "emisiones = emisiones_por_estacion_y_contaminante(df_2016_procesado_con_fecha, estacion, contaminante, fecha_inicio, fecha_fin)\n",
        "print(emisiones)\n"
      ],
      "metadata": {
        "colab": {
          "base_uri": "https://localhost:8080/"
        },
        "id": "s1Rx3Z8eprzO",
        "outputId": "b4e35091-4442-4096-9d2c-5f48e3cf7eb5"
      },
      "execution_count": 26,
      "outputs": [
        {
          "output_type": "stream",
          "name": "stdout",
          "text": [
            "Estaciones disponibles: [ 4  8 11 16 17 18 24 27 35 36 38 39 40 47 48 49 50 54 55 56 57 58 59 60]\n",
            "Contaminantes disponibles: [ 1  6  7  8 12  9 10 14 20 30 35 42 43 44]\n",
            "            VALOR\n",
            "FECHA            \n",
            "2016-01-01    8.0\n",
            "2016-01-02    7.0\n",
            "2016-01-03    6.0\n",
            "2016-01-04    6.0\n",
            "2016-01-05    7.0\n",
            "...           ...\n",
            "2016-12-27   17.0\n",
            "2016-12-28   13.0\n",
            "2016-12-29   13.0\n",
            "2016-12-30   12.0\n",
            "2016-12-31    7.0\n",
            "\n",
            "[366 rows x 1 columns]\n"
          ]
        }
      ]
    },
    {
      "cell_type": "code",
      "source": [
        "def resumen_descriptivo_por_contaminante(df):\n",
        "    resumen = df.groupby('MAGNITUD')['VALOR'].describe()\n",
        "    return resumen\n",
        "\n",
        "print(\"Resumen descriptivo por contaminante (2016):\")\n",
        "print(resumen_descriptivo_por_contaminante(df_2016_procesado_con_fecha))\n",
        "\n",
        "def resumen_descriptivo_por_estacion_y_contaminante(df):\n",
        "    resumen = df.groupby(['ESTACION', 'MAGNITUD'])['VALOR'].describe()\n",
        "    return resumen\n",
        "\n",
        "print(\"\\nResumen descriptivo por estación y contaminante (2016):\")\n",
        "print(resumen_descriptivo_por_estacion_y_contaminante(df_2016_procesado_con_fecha))\n",
        "\n",
        "def resumen_por_estacion_y_contaminante(df, estacion, contaminante):\n",
        "    df_filtrado = df[(df['ESTACION'] == estacion) & (df['MAGNITUD'] == contaminante)]\n",
        "    resumen = df_filtrado['VALOR'].describe()\n",
        "    return resumen\n",
        "\n",
        "estacion = 4\n",
        "contaminante = 1\n",
        "\n",
        "print(f\"\\nResumen descriptivo para la estación {estacion} y el contaminante {contaminante}:\")\n",
        "print(resumen_por_estacion_y_contaminante(df_2016_procesado_con_fecha, estacion, contaminante))\n"
      ],
      "metadata": {
        "colab": {
          "base_uri": "https://localhost:8080/"
        },
        "id": "NZmrqaDBql5N",
        "outputId": "c4061212-5a4c-48c9-bf3b-b3eccbd450c4"
      },
      "execution_count": 28,
      "outputs": [
        {
          "output_type": "stream",
          "name": "stdout",
          "text": [
            "Resumen descriptivo por contaminante (2016):\n",
            "           count       mean         std   min    25%    50%    75%       max\n",
            "MAGNITUD                                                                    \n",
            "1         3660.0   7.656831    6.186077  0.00   4.00   7.00  10.00    234.00\n",
            "6         3660.0   0.350082    0.160851  0.00   0.30   0.30   0.40      1.40\n",
            "7         8784.0  24.737591  265.477871  0.00   5.00  10.00  26.00  24742.00\n",
            "8         8784.0  38.301799   19.076459  0.00  24.00  36.00  50.00    142.00\n",
            "9         2196.0  10.398907    6.380443  0.00   6.00   9.00  13.00     84.00\n",
            "10        4392.0  19.023452   15.909335  0.00  10.00  16.00  24.00    257.00\n",
            "12        8784.0  71.910291   62.169066  0.00  32.00  53.00  90.00    586.00\n",
            "14        5124.0  48.646175   24.018242  0.00  31.00  50.00  66.25    122.00\n",
            "20        2196.0   2.985974    6.247159  0.00   1.00   1.90   3.50    185.50\n",
            "30        2196.0   0.653734    0.749189  0.00   0.20   0.40   0.80     15.10\n",
            "35        2196.0   0.430965    0.777929  0.00   0.10   0.20   0.50     17.30\n",
            "42        1098.0   1.364499    0.228786  0.00   1.21   1.31   1.47      3.09\n",
            "43        1098.0   1.241466    0.197544 -0.07   1.13   1.18   1.33      2.77\n",
            "44        1098.0   0.123916    0.082104  0.00   0.07   0.12   0.15      1.31\n",
            "\n",
            "Resumen descriptivo por estación y contaminante (2016):\n",
            "                   count        mean        std   min    25%   50%     75%  \\\n",
            "ESTACION MAGNITUD                                                            \n",
            "4        1         366.0    7.491803   2.070984   2.0   7.00   7.0    8.00   \n",
            "         6         366.0    0.376503   0.176867   0.2   0.30   0.3    0.40   \n",
            "         7         366.0   36.524590  41.465922   1.0   9.25  19.0   46.00   \n",
            "         8         366.0   45.628415  17.184850   9.0  34.00  44.5   56.00   \n",
            "         12        366.0  101.622951  77.198303  19.0  50.00  74.5  127.75   \n",
            "...                  ...         ...        ...   ...    ...   ...     ...   \n",
            "60       7         366.0   13.653005  21.590899   1.0   2.00   5.0   14.00   \n",
            "         8         366.0   35.576503  17.770328   7.0  22.25  32.0   45.75   \n",
            "         10        366.0   17.713115  15.702271   1.0   9.00  14.0   22.00   \n",
            "         12        366.0   56.535519  48.567395   9.0  27.00  42.0   67.00   \n",
            "         14        366.0   61.904372  25.591611   5.0  47.00  65.0   81.00   \n",
            "\n",
            "                     max  \n",
            "ESTACION MAGNITUD         \n",
            "4        1          17.0  \n",
            "         6           1.2  \n",
            "         7         239.0  \n",
            "         8         100.0  \n",
            "         12        467.0  \n",
            "...                  ...  \n",
            "60       7         146.0  \n",
            "         8          96.0  \n",
            "         10        215.0  \n",
            "         12        319.0  \n",
            "         14        119.0  \n",
            "\n",
            "[151 rows x 8 columns]\n",
            "\n",
            "Resumen descriptivo para la estación 4 y el contaminante 1:\n",
            "count    366.000000\n",
            "mean       7.491803\n",
            "std        2.070984\n",
            "min        2.000000\n",
            "25%        7.000000\n",
            "50%        7.000000\n",
            "75%        8.000000\n",
            "max       17.000000\n",
            "Name: VALOR, dtype: float64\n"
          ]
        }
      ]
    },
    {
      "cell_type": "code",
      "source": [
        "def emisiones_medias_mensuales(df, contaminante, ano):\n",
        "    df_filtrado = df[(df['ANO'] == ano) & (df['MAGNITUD'] == contaminante)]\n",
        "    emisiones_medias = df_filtrado.groupby('MES')['VALOR'].mean()\n",
        "    return emisiones_medias\n",
        "\n",
        "contaminante = 1\n",
        "ano = 2016\n",
        "\n",
        "print(f\"Emisiones medias mensuales para el contaminante {contaminante} en {ano}:\")\n",
        "print(emisiones_medias_mensuales(df_2016_procesado_con_fecha, contaminante, ano))\n",
        "\n",
        "def medidas_mensuales_por_estacion(df, estacion):\n",
        "    df_filtrado = df[df['ESTACION'] == estacion]\n",
        "    medidas_mensuales = df_filtrado.groupby(['MES', 'MAGNITUD'])['VALOR'].mean().unstack()\n",
        "    return medidas_mensuales\n",
        "\n",
        "estacion = 4\n",
        "\n",
        "print(f\"\\nMedidas mensuales de los distintos contaminantes para la estación {estacion}:\")\n",
        "print(medidas_mensuales_por_estacion(df_2016_procesado_con_fecha, estacion))\n"
      ],
      "metadata": {
        "colab": {
          "base_uri": "https://localhost:8080/"
        },
        "id": "EFyAD_c0qoRw",
        "outputId": "3f730cbf-173a-4c81-fade-af4c6ba3303b"
      },
      "execution_count": 29,
      "outputs": [
        {
          "output_type": "stream",
          "name": "stdout",
          "text": [
            "Emisiones medias mensuales para el contaminante 1 en 2016:\n",
            "MES\n",
            "1     8.806452\n",
            "2     8.472414\n",
            "3     8.548387\n",
            "4     7.733333\n",
            "5     7.254839\n",
            "6     8.043333\n",
            "7     5.809677\n",
            "8     5.935484\n",
            "9     6.896667\n",
            "10    8.196774\n",
            "11    7.606667\n",
            "12    8.619355\n",
            "Name: VALOR, dtype: float64\n",
            "\n",
            "Medidas mensuales de los distintos contaminantes para la estación 4:\n",
            "MAGNITUD        1         6           7          8           12\n",
            "MES                                                            \n",
            "1         8.354839  0.432258   45.516129  42.935484  112.677419\n",
            "2         8.551724  0.368966   35.586207  37.241379   91.827586\n",
            "3         8.612903  0.370968   24.483871  40.129032   77.806452\n",
            "4         8.066667  0.330000   20.233333  37.733333   68.533333\n",
            "5         7.354839  0.300000   17.193548  36.774194   63.096774\n",
            "6         7.266667  0.273333   17.800000  40.300000   67.633333\n",
            "7         7.032258  0.248387   11.225806  41.709677   59.032258\n",
            "8         7.000000  0.251613    8.225806  37.387097   50.064516\n",
            "9         8.100000  0.346667   29.866667  57.400000  103.166667\n",
            "10        7.387097  0.490323   61.645161  60.387097  154.870968\n",
            "11        4.033333  0.453333   58.400000  54.066667  143.600000\n",
            "12        8.129032  0.648387  107.419355  61.161290  225.774194\n"
          ]
        }
      ]
    }
  ]
}